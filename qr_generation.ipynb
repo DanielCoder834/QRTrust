{
 "cells": [
  {
   "cell_type": "code",
   "execution_count": 2,
   "metadata": {},
   "outputs": [
    {
     "name": "stdout",
     "output_type": "stream",
     "text": [
      "✅ Saved: test_qr_codes/plain_text.png\n",
      "✅ Saved: test_qr_codes/safe_url.png\n",
      "✅ Saved: test_qr_codes/safe_url_2.png\n",
      "✅ Saved: test_qr_codes/fake_phishing_url.png\n",
      "✅ Saved: test_qr_codes/suspicious_keywords.png\n",
      "✅ Saved: test_qr_codes/shortened_link.png\n",
      "✅ Saved: test_qr_codes/very_long_url.png\n",
      "✅ Saved: test_qr_codes/encoded_script.png\n",
      "✅ Saved: test_qr_codes/local_fake_login.png\n",
      "✅ Saved: test_qr_codes/unreachable_url.png\n",
      "✅ Saved: test_qr_codes/non_http_data.png\n"
     ]
    }
   ],
   "source": [
    "import qrcode\n",
    "import os\n",
    "from PIL import Image, ImageDraw, ImageFont\n",
    "\n",
    "# Directory to save the QR codes\n",
    "output_dir = \"test_qr_codes\"\n",
    "os.makedirs(output_dir, exist_ok=True)\n",
    "\n",
    "# Test cases dictionary: filename → content\n",
    "test_cases = {\n",
    "    \"plain_text\": \"Hello from Hackathon!\",\n",
    "    \"safe_url\": \"https://en.wikipedia.org/wiki/Cybersecurity\",\n",
    "    \"safe_url_2\": \"https://en.wikipedia.org/wiki/Cybersecurity\",\n",
    "    \"fake_phishing_url\": \"http://reset-password.google-account.security\",\n",
    "    \"suspicious_keywords\": \"cmd=rm -rf /\",\n",
    "    \"shortened_link\": \"http://bit.ly/fake-link\",\n",
    "    \"very_long_url\": \"http://thisisaverylongurltotesthowtheapphandlesunusuallylongandpotentiallysuspiciouswebaddresses.com\",\n",
    "    \"encoded_script\": \"data:text/html;base64,PHNjcmlwdD5hbGVydCgiSGFja2VkISIpfTwvc2NyaXB0Pg==\",\n",
    "    \"local_fake_login\": \"http://127.0.0.1/fake-login\",\n",
    "    \"unreachable_url\": \"http://nonexistent.thisdomainshouldnotexist12345.com\",\n",
    "    \"non_http_data\": \"WIFI:S:MyWiFi;T:WPA;P:supersecurepassword;;\"\n",
    "}\n",
    "\n",
    "# Font setup\n",
    "try:\n",
    "    font = ImageFont.truetype(\"arial.ttf\", 16)\n",
    "except:\n",
    "    font = ImageFont.load_default()\n",
    "\n",
    "# Generate QR codes with text below\n",
    "for name, content in test_cases.items():\n",
    "    qr = qrcode.QRCode(box_size=10, border=4)\n",
    "    qr.add_data(content)\n",
    "    qr.make(fit=True)\n",
    "    qr_img = qr.make_image(fill=\"black\", back_color=\"white\").convert(\"RGB\")\n",
    "\n",
    "    # Calculate size for text box\n",
    "    text_padding = 10\n",
    "    bbox = ImageDraw.Draw(qr_img).textbbox((0, 0), content, font=font)  # Get the bounding box of the text\n",
    "    text_width = bbox[2] - bbox[0]\n",
    "    text_height = bbox[3] - bbox[1]\n",
    "\n",
    "    new_width = max(qr_img.width, text_width + 20)\n",
    "    new_height = qr_img.height + text_height + text_padding + 10\n",
    "\n",
    "    # Create a new image with extra space for text\n",
    "    new_img = Image.new(\"RGB\", (new_width, new_height), \"white\")\n",
    "    new_img.paste(qr_img, ((new_width - qr_img.width) // 2, 0))\n",
    "\n",
    "    # Draw the text\n",
    "    draw = ImageDraw.Draw(new_img)\n",
    "    draw.text((10, qr_img.height + text_padding), content, font=font, fill=\"black\")\n",
    "\n",
    "    # Save the image\n",
    "    img_path = os.path.join(output_dir, f\"{name}.png\")\n",
    "    new_img.save(img_path)\n",
    "    print(f\"✅ Saved: {img_path}\")\n"
   ]
  },
  {
   "cell_type": "code",
   "execution_count": null,
   "metadata": {},
   "outputs": [],
   "source": [
    "!pip install streamlit"
   ]
  }
 ],
 "metadata": {
  "kernelspec": {
   "display_name": "Python 3",
   "language": "python",
   "name": "python3"
  },
  "language_info": {
   "codemirror_mode": {
    "name": "ipython",
    "version": 3
   },
   "file_extension": ".py",
   "mimetype": "text/x-python",
   "name": "python",
   "nbconvert_exporter": "python",
   "pygments_lexer": "ipython3",
   "version": "3.10.16"
  }
 },
 "nbformat": 4,
 "nbformat_minor": 2
}
